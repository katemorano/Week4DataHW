{
 "cells": [
  {
   "cell_type": "code",
   "execution_count": 8,
   "id": "65237d0e-82b4-430f-bfff-fab446732390",
   "metadata": {},
   "outputs": [],
   "source": [
    "search_terms = [\"improper touching\",\n",
    "                \"self-medication\",\n",
    "                \"self-prescribing\",\n",
    "                \"opioid addiction\",\n",
    "                \"harassment\",\n",
    "                \"coercion\",\n",
    "                \"sexual harassment\",\n",
    "                \"sex\",\n",
    "                \"sexual favor\",\n",
    "                \"abuse of trust\",\n",
    "                \"opioid prescriptions in return for sex\"]"
   ]
  },
  {
   "cell_type": "code",
   "execution_count": 10,
   "id": "354a2a6e-dba9-491a-9e89-72b87c42169e",
   "metadata": {},
   "outputs": [
    {
     "data": {
      "text/plain": [
       "list"
      ]
     },
     "execution_count": 10,
     "metadata": {},
     "output_type": "execute_result"
    }
   ],
   "source": [
    "type(search_terms)"
   ]
  },
  {
   "cell_type": "code",
   "execution_count": 12,
   "id": "85f1d0c4-3215-4030-8c04-7c47a52f0b2f",
   "metadata": {},
   "outputs": [
    {
     "data": {
      "text/plain": [
       "11"
      ]
     },
     "execution_count": 12,
     "metadata": {},
     "output_type": "execute_result"
    }
   ],
   "source": [
    "len(search_terms)"
   ]
  },
  {
   "cell_type": "code",
   "execution_count": 27,
   "id": "c3a60310-d2dc-4997-a99d-b92f60531b48",
   "metadata": {},
   "outputs": [],
   "source": [
    "donations = [\n",
    "    {\"year\":\"2017\",\n",
    "     \"donor\":\"David H Koch Charitable Foundation\",\n",
    "     \"grantee\":\"City Center for Music and Drama\",\n",
    "     \"amount\":15_000_000},\n",
    "    {\"year\":\"2013\",\n",
    "    \"donor\":\"Bradley Impact Fund Inc\",\n",
    "     \"grantee\":\"Young Americas Foundation\",\n",
    "     \"amount\":11_000},\n",
    "    {\"year\":\"2016\",\n",
    "     \"donor\":\"Mercer Family Foundation\",\n",
    "     \"grantee\":\"The Becket Fund\",\n",
    "     \"amount\":250_000},\n",
    "    {\"year\":\"2012\",\n",
    "     \"donor\":\"Charles Koch Foundation\",\n",
    "     \"grantee\":\"The Philips Foundation\",\n",
    "     \"amount\":25_000},\n",
    "    {\"year\":\"2017\",\n",
    "     \"donor\":\"Barbara and Barre Seid Foundation\",\n",
    "     \"grantee\":\"Boys Scout of America\",\n",
    "     \"amount\":2_634_000}\n",
    "]\n"
   ]
  },
  {
   "cell_type": "code",
   "execution_count": 29,
   "id": "7e385a40-e0cb-4456-9e7e-927f7076ff34",
   "metadata": {},
   "outputs": [
    {
     "name": "stdout",
     "output_type": "stream",
     "text": [
      "[{'year': '2017', 'donor': 'David H Koch Charitable Foundation', 'grantee': 'City Center for Music and Drama', 'amount': 15000000}, {'year': '2013', 'donor': 'Bradley Impact Fund Inc', 'grantee': 'Young Americas Foundation', 'amount': 11000}, {'year': '2016', 'donor': 'Mercer Family Foundation', 'grantee': 'The Becket Fund', 'amount': 250000}, {'year': '2012', 'donor': 'Charles Koch Foundation', 'grantee': 'The Philips Foundation', 'amount': 25000}, {'year': '2017', 'donor': 'Barbara and Barre Seid Foundation', 'grantee': 'Boys Scout of America', 'amount': 2634000}]\n"
     ]
    }
   ],
   "source": [
    "print(donations)"
   ]
  },
  {
   "cell_type": "code",
   "execution_count": 31,
   "id": "42c5fee8-2952-43a1-a891-72a283a7102e",
   "metadata": {},
   "outputs": [
    {
     "data": {
      "text/plain": [
       "[{'year': '2017',\n",
       "  'donor': 'David H Koch Charitable Foundation',\n",
       "  'grantee': 'City Center for Music and Drama',\n",
       "  'amount': 15000000},\n",
       " {'year': '2013',\n",
       "  'donor': 'Bradley Impact Fund Inc',\n",
       "  'grantee': 'Young Americas Foundation',\n",
       "  'amount': 11000},\n",
       " {'year': '2016',\n",
       "  'donor': 'Mercer Family Foundation',\n",
       "  'grantee': 'The Becket Fund',\n",
       "  'amount': 250000},\n",
       " {'year': '2012',\n",
       "  'donor': 'Charles Koch Foundation',\n",
       "  'grantee': 'The Philips Foundation',\n",
       "  'amount': 25000},\n",
       " {'year': '2017',\n",
       "  'donor': 'Barbara and Barre Seid Foundation',\n",
       "  'grantee': 'Boys Scout of America',\n",
       "  'amount': 2634000}]"
      ]
     },
     "execution_count": 31,
     "metadata": {},
     "output_type": "execute_result"
    }
   ],
   "source": [
    "donations"
   ]
  },
  {
   "cell_type": "code",
   "execution_count": 33,
   "id": "0d8420ff-5491-48a8-878e-47c9ebb29d88",
   "metadata": {},
   "outputs": [
    {
     "data": {
      "text/plain": [
       "5"
      ]
     },
     "execution_count": 33,
     "metadata": {},
     "output_type": "execute_result"
    }
   ],
   "source": [
    "len(donations)"
   ]
  },
  {
   "cell_type": "code",
   "execution_count": 35,
   "id": "b4363a4b-4d1b-4030-8831-c6b4b369924c",
   "metadata": {},
   "outputs": [],
   "source": [
    "\n",
    "disasters = [\n",
    "        \"Landslides\",\n",
    "        \"Earthquake\",\n",
    "        \"Wildfires\",\n",
    "        \"Tornadoes\",\n",
    "        \"Hurricane\",\n",
    "        \"Wind Storm\",\n",
    "        \"Winter Freeze\",\n",
    "        \"Ice Storm\",\n",
    "        \"Drought\",\n",
    "        \"Tsunami\",\n",
    "        \"Flash floods\",\n",
    "        \"Mudslides\",\n",
    "        \"Torrential rainfall\",\n",
    "        \"Riverine floods\",\n",
    "        \"Tidal Surge\"\n",
    "         ]"
   ]
  },
  {
   "cell_type": "code",
   "execution_count": 37,
   "id": "f7719768-f5fd-4e91-88cd-5ad175a69d8f",
   "metadata": {},
   "outputs": [
    {
     "data": {
      "text/plain": [
       "['Landslides',\n",
       " 'Earthquake',\n",
       " 'Wildfires',\n",
       " 'Tornadoes',\n",
       " 'Hurricane',\n",
       " 'Wind Storm',\n",
       " 'Winter Freeze',\n",
       " 'Ice Storm',\n",
       " 'Drought',\n",
       " 'Tsunami',\n",
       " 'Flash floods',\n",
       " 'Mudslides',\n",
       " 'Torrential rainfall',\n",
       " 'Riverine floods',\n",
       " 'Tidal Surge']"
      ]
     },
     "execution_count": 37,
     "metadata": {},
     "output_type": "execute_result"
    }
   ],
   "source": [
    "disasters"
   ]
  },
  {
   "cell_type": "code",
   "execution_count": 39,
   "id": "10441d04-37b8-4545-b293-4633ffe5acff",
   "metadata": {},
   "outputs": [
    {
     "data": {
      "text/plain": [
       "'Landslides'"
      ]
     },
     "execution_count": 39,
     "metadata": {},
     "output_type": "execute_result"
    }
   ],
   "source": [
    "disasters[0]"
   ]
  },
  {
   "cell_type": "code",
   "execution_count": 49,
   "id": "e917b2b9-4058-4fbb-a158-3195dc627226",
   "metadata": {},
   "outputs": [
    {
     "data": {
      "text/plain": [
       "'Riverine floods'"
      ]
     },
     "execution_count": 49,
     "metadata": {},
     "output_type": "execute_result"
    }
   ],
   "source": [
    "disasters[-2]"
   ]
  },
  {
   "cell_type": "code",
   "execution_count": 55,
   "id": "aa756986-5b5b-4829-9fd9-13ceacd7ea50",
   "metadata": {},
   "outputs": [],
   "source": [
    "disasters_subset = (disasters[3:7])"
   ]
  },
  {
   "cell_type": "code",
   "execution_count": 57,
   "id": "16549904-50c5-4005-aa5d-95e5ee9a6d33",
   "metadata": {},
   "outputs": [
    {
     "data": {
      "text/plain": [
       "['Tornadoes', 'Hurricane', 'Wind Storm', 'Winter Freeze']"
      ]
     },
     "execution_count": 57,
     "metadata": {},
     "output_type": "execute_result"
    }
   ],
   "source": [
    "disasters_subset"
   ]
  },
  {
   "cell_type": "code",
   "execution_count": 61,
   "id": "4e137bb1-04d5-46ec-a28c-16daa2d88384",
   "metadata": {},
   "outputs": [],
   "source": [
    "disasters_subset2 = (disasters[2:9])"
   ]
  },
  {
   "cell_type": "code",
   "execution_count": 63,
   "id": "ffe2c0df-3d2f-4d06-9b51-17f79d81d1de",
   "metadata": {},
   "outputs": [
    {
     "data": {
      "text/plain": [
       "['Wildfires',\n",
       " 'Tornadoes',\n",
       " 'Hurricane',\n",
       " 'Wind Storm',\n",
       " 'Winter Freeze',\n",
       " 'Ice Storm',\n",
       " 'Drought']"
      ]
     },
     "execution_count": 63,
     "metadata": {},
     "output_type": "execute_result"
    }
   ],
   "source": [
    "disasters_subset2"
   ]
  }
 ],
 "metadata": {
  "kernelspec": {
   "display_name": "Python [conda env:base] *",
   "language": "python",
   "name": "conda-base-py"
  },
  "language_info": {
   "codemirror_mode": {
    "name": "ipython",
    "version": 3
   },
   "file_extension": ".py",
   "mimetype": "text/x-python",
   "name": "python",
   "nbconvert_exporter": "python",
   "pygments_lexer": "ipython3",
   "version": "3.12.7"
  }
 },
 "nbformat": 4,
 "nbformat_minor": 5
}
