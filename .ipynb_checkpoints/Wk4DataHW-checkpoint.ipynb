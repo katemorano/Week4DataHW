{
 "cells": [
  {
   "cell_type": "code",
   "execution_count": 2,
   "id": "2fe55074-882f-42eb-b729-2397773170c5",
   "metadata": {},
   "outputs": [],
   "source": [
    "chicago_murders = 762\n",
    "LA_murders = 294\n",
    "NYC_murders = 334\n",
    "sanjose_murders = 47"
   ]
  },
  {
   "cell_type": "code",
   "execution_count": 4,
   "id": "de6c799c-c201-4ffa-970e-a8bad77bc2de",
   "metadata": {},
   "outputs": [],
   "source": [
    "chicago_pop = 2_705_000\n",
    "LA_pop = 3_976_000\n",
    "NYC_pop = 8_538_000\n",
    "sanjose_pop = 1_025_000"
   ]
  },
  {
   "cell_type": "code",
   "execution_count": 6,
   "id": "44b300a1-cb28-422e-967d-14dda50844c0",
   "metadata": {},
   "outputs": [],
   "source": [
    "chicago_murders_per_100k = (chicago_murders / chicago_pop) * 100_000"
   ]
  },
  {
   "cell_type": "code",
   "execution_count": 8,
   "id": "e0f6e032-b971-48e6-87ca-11ae83112196",
   "metadata": {},
   "outputs": [
    {
     "data": {
      "text/plain": [
       "28.170055452865068"
      ]
     },
     "execution_count": 8,
     "metadata": {},
     "output_type": "execute_result"
    }
   ],
   "source": [
    "chicago_murders_per_100k"
   ]
  },
  {
   "cell_type": "code",
   "execution_count": 10,
   "id": "3386d5b2-2fce-4014-8ba1-209b545a56ab",
   "metadata": {},
   "outputs": [],
   "source": [
    "LA_murders_per_100k = (LA_murders / LA_pop) * 100_000"
   ]
  },
  {
   "cell_type": "code",
   "execution_count": 12,
   "id": "2d789b7d-672b-493a-8ba7-0054346f2d06",
   "metadata": {},
   "outputs": [
    {
     "data": {
      "text/plain": [
       "7.394366197183098"
      ]
     },
     "execution_count": 12,
     "metadata": {},
     "output_type": "execute_result"
    }
   ],
   "source": [
    "LA_murders_per_100k"
   ]
  },
  {
   "cell_type": "code",
   "execution_count": 14,
   "id": "f137bf71-7233-480e-b7fb-c2ddce7d15d1",
   "metadata": {},
   "outputs": [],
   "source": [
    "NYC_murders_per_100k = (NYC_murders / NYC_pop) * 100_000"
   ]
  },
  {
   "cell_type": "code",
   "execution_count": 16,
   "id": "5d3a9c61-e6eb-414c-9a11-db1370df3763",
   "metadata": {},
   "outputs": [
    {
     "data": {
      "text/plain": [
       "3.911923167018037"
      ]
     },
     "execution_count": 16,
     "metadata": {},
     "output_type": "execute_result"
    }
   ],
   "source": [
    "NYC_murders_per_100k"
   ]
  },
  {
   "cell_type": "code",
   "execution_count": 18,
   "id": "1792e29f-5e75-4981-a296-88201df0a9f9",
   "metadata": {},
   "outputs": [],
   "source": [
    "sanjose_murders_per_100k = (sanjose_murders / sanjose_pop) * 100_000"
   ]
  },
  {
   "cell_type": "code",
   "execution_count": 20,
   "id": "7ddc8481-cd93-4171-ad66-039e866308bd",
   "metadata": {},
   "outputs": [
    {
     "data": {
      "text/plain": [
       "4.585365853658536"
      ]
     },
     "execution_count": 20,
     "metadata": {},
     "output_type": "execute_result"
    }
   ],
   "source": [
    "sanjose_murders_per_100k"
   ]
  },
  {
   "cell_type": "code",
   "execution_count": 22,
   "id": "10a8e9f0-4def-4744-a5c8-933bf94b925a",
   "metadata": {},
   "outputs": [
    {
     "name": "stdout",
     "output_type": "stream",
     "text": [
      "Chicago has the highest murder rate at 28.17 per 100K, while New York City has the lowest per capita murder rate at 3.91 per 100K.\n"
     ]
    }
   ],
   "source": [
    "print(f\"Chicago has the highest murder rate at {chicago_murders_per_100k:,.2F} per 100K, while New York City has the lowest per capita murder rate at {NYC_murders_per_100k:,.2F} per 100K.\")"
   ]
  },
  {
   "cell_type": "code",
   "execution_count": null,
   "id": "1a929681-27d8-4458-ad45-45cda545d7e3",
   "metadata": {},
   "outputs": [],
   "source": []
  }
 ],
 "metadata": {
  "kernelspec": {
   "display_name": "Python [conda env:base] *",
   "language": "python",
   "name": "conda-base-py"
  },
  "language_info": {
   "codemirror_mode": {
    "name": "ipython",
    "version": 3
   },
   "file_extension": ".py",
   "mimetype": "text/x-python",
   "name": "python",
   "nbconvert_exporter": "python",
   "pygments_lexer": "ipython3",
   "version": "3.12.7"
  }
 },
 "nbformat": 4,
 "nbformat_minor": 5
}
