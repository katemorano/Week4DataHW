{
 "cells": [
  {
   "cell_type": "markdown",
   "id": "58185b3c",
   "metadata": {
    "id": "58185b3c"
   },
   "source": [
    "### Paycheck Protection Program\n",
    "\n",
    "Let's analyze **an excerpt** from  <a href=\"https://www.sba.gov/funding-programs/loans/covid-19-relief-options/paycheck-protection-program\">SBA's PPP loan data</a>.\n",
    "\n",
    "The file we're working on is an excerpt so **we can't draw any hypothesis from our findings** in this homework.\n",
    "\n",
    "The excerpt can be found at this link: <a href=\"https://raw.githubusercontent.com/sandeepmj/datasets/main/ppp_excerpt.csv\">https://raw.githubusercontent.com/sandeepmj/datasets/main/ppp_excerpt.csv</a>\n",
    "\n"
   ]
  },
  {
   "cell_type": "code",
   "execution_count": 4,
   "id": "i1Qo4Gze7ZNd",
   "metadata": {
    "executionInfo": {
     "elapsed": 202,
     "status": "ok",
     "timestamp": 1708542693845,
     "user": {
      "displayName": "Sandeep Junnarkar",
      "userId": "15658885848901522782"
     },
     "user_tz": 480
    },
    "id": "i1Qo4Gze7ZNd"
   },
   "outputs": [],
   "source": [
    "## Run the code that resets the default display here to round the numbers, remove scientific notation, etc.\n",
    "import pandas as pd\n",
    "pd.options.display.float_format = '{:,.0f}'.format"
   ]
  },
  {
   "cell_type": "code",
   "execution_count": 8,
   "id": "245e01ff-b5f6-4c5b-82cf-7030bba08ee5",
   "metadata": {},
   "outputs": [
    {
     "data": {
      "text/html": [
       "<div>\n",
       "<style scoped>\n",
       "    .dataframe tbody tr th:only-of-type {\n",
       "        vertical-align: middle;\n",
       "    }\n",
       "\n",
       "    .dataframe tbody tr th {\n",
       "        vertical-align: top;\n",
       "    }\n",
       "\n",
       "    .dataframe thead th {\n",
       "        text-align: right;\n",
       "    }\n",
       "</style>\n",
       "<table border=\"1\" class=\"dataframe\">\n",
       "  <thead>\n",
       "    <tr style=\"text-align: right;\">\n",
       "      <th></th>\n",
       "      <th>LoanNumber</th>\n",
       "      <th>DateApproved</th>\n",
       "      <th>SBAOfficeCode</th>\n",
       "      <th>ProcessingMethod</th>\n",
       "      <th>BorrowerName</th>\n",
       "      <th>BorrowerAddress</th>\n",
       "      <th>BorrowerCity</th>\n",
       "      <th>BorrowerState</th>\n",
       "      <th>BorrowerZip</th>\n",
       "      <th>LoanStatusDate</th>\n",
       "      <th>...</th>\n",
       "      <th>BusinessType</th>\n",
       "      <th>OriginatingLenderLocationID</th>\n",
       "      <th>OriginatingLender</th>\n",
       "      <th>OriginatingLenderCity</th>\n",
       "      <th>OriginatingLenderState</th>\n",
       "      <th>Gender</th>\n",
       "      <th>Veteran</th>\n",
       "      <th>NonProfit</th>\n",
       "      <th>ForgivenessAmount</th>\n",
       "      <th>ForgivenessDate</th>\n",
       "    </tr>\n",
       "  </thead>\n",
       "  <tbody>\n",
       "    <tr>\n",
       "      <th>0</th>\n",
       "      <td>9547507704</td>\n",
       "      <td>05/01/2020</td>\n",
       "      <td>464</td>\n",
       "      <td>PPP</td>\n",
       "      <td>SUMTER COATINGS, INC.</td>\n",
       "      <td>2410 Highway 15 South</td>\n",
       "      <td>Sumter</td>\n",
       "      <td>NaN</td>\n",
       "      <td>29150-9662</td>\n",
       "      <td>12/18/2020</td>\n",
       "      <td>...</td>\n",
       "      <td>Corporation</td>\n",
       "      <td>19248</td>\n",
       "      <td>Synovus Bank</td>\n",
       "      <td>COLUMBUS</td>\n",
       "      <td>GA</td>\n",
       "      <td>Unanswered</td>\n",
       "      <td>Unanswered</td>\n",
       "      <td>NaN</td>\n",
       "      <td>773,553</td>\n",
       "      <td>11/20/2020</td>\n",
       "    </tr>\n",
       "    <tr>\n",
       "      <th>1</th>\n",
       "      <td>9777677704</td>\n",
       "      <td>05/01/2020</td>\n",
       "      <td>464</td>\n",
       "      <td>PPP</td>\n",
       "      <td>PLEASANT PLACES, INC.</td>\n",
       "      <td>7684 Southrail Road</td>\n",
       "      <td>North Charleston</td>\n",
       "      <td>NaN</td>\n",
       "      <td>29420-9000</td>\n",
       "      <td>09/28/2021</td>\n",
       "      <td>...</td>\n",
       "      <td>Sole Proprietorship</td>\n",
       "      <td>19248</td>\n",
       "      <td>Synovus Bank</td>\n",
       "      <td>COLUMBUS</td>\n",
       "      <td>GA</td>\n",
       "      <td>Male Owned</td>\n",
       "      <td>Non-Veteran</td>\n",
       "      <td>NaN</td>\n",
       "      <td>746,336</td>\n",
       "      <td>08/12/2021</td>\n",
       "    </tr>\n",
       "    <tr>\n",
       "      <th>2</th>\n",
       "      <td>5791407702</td>\n",
       "      <td>05/01/2020</td>\n",
       "      <td>1013</td>\n",
       "      <td>PPP</td>\n",
       "      <td>BOYER CHILDREN'S CLINIC</td>\n",
       "      <td>1850 BOYER AVE E</td>\n",
       "      <td>SEATTLE</td>\n",
       "      <td>NaN</td>\n",
       "      <td>98112-2922</td>\n",
       "      <td>03/17/2021</td>\n",
       "      <td>...</td>\n",
       "      <td>Non-Profit Organization</td>\n",
       "      <td>9551</td>\n",
       "      <td>Bank of America, National Association</td>\n",
       "      <td>CHARLOTTE</td>\n",
       "      <td>NC</td>\n",
       "      <td>Unanswered</td>\n",
       "      <td>Unanswered</td>\n",
       "      <td>Y</td>\n",
       "      <td>696,677</td>\n",
       "      <td>02/10/2021</td>\n",
       "    </tr>\n",
       "    <tr>\n",
       "      <th>3</th>\n",
       "      <td>6223567700</td>\n",
       "      <td>05/01/2020</td>\n",
       "      <td>920</td>\n",
       "      <td>PPP</td>\n",
       "      <td>KIRTLEY CONSTRUCTION INC</td>\n",
       "      <td>1661 MARTIN RANCH RD</td>\n",
       "      <td>SAN BERNARDINO</td>\n",
       "      <td>NaN</td>\n",
       "      <td>92407-1740</td>\n",
       "      <td>10/16/2021</td>\n",
       "      <td>...</td>\n",
       "      <td>Corporation</td>\n",
       "      <td>9551</td>\n",
       "      <td>Bank of America, National Association</td>\n",
       "      <td>CHARLOTTE</td>\n",
       "      <td>NC</td>\n",
       "      <td>Male Owned</td>\n",
       "      <td>Non-Veteran</td>\n",
       "      <td>NaN</td>\n",
       "      <td>395,264</td>\n",
       "      <td>09/10/2021</td>\n",
       "    </tr>\n",
       "    <tr>\n",
       "      <th>4</th>\n",
       "      <td>9662437702</td>\n",
       "      <td>05/01/2020</td>\n",
       "      <td>101</td>\n",
       "      <td>PPP</td>\n",
       "      <td>AERO BOX LLC</td>\n",
       "      <td>NaN</td>\n",
       "      <td>NaN</td>\n",
       "      <td>NaN</td>\n",
       "      <td>NaN</td>\n",
       "      <td>08/17/2021</td>\n",
       "      <td>...</td>\n",
       "      <td>NaN</td>\n",
       "      <td>57328</td>\n",
       "      <td>The Huntington National Bank</td>\n",
       "      <td>COLUMBUS</td>\n",
       "      <td>OH</td>\n",
       "      <td>Unanswered</td>\n",
       "      <td>Unanswered</td>\n",
       "      <td>NaN</td>\n",
       "      <td>370,819</td>\n",
       "      <td>04/08/2021</td>\n",
       "    </tr>\n",
       "  </tbody>\n",
       "</table>\n",
       "<p>5 rows × 53 columns</p>\n",
       "</div>"
      ],
      "text/plain": [
       "   LoanNumber DateApproved  SBAOfficeCode ProcessingMethod  \\\n",
       "0  9547507704   05/01/2020            464              PPP   \n",
       "1  9777677704   05/01/2020            464              PPP   \n",
       "2  5791407702   05/01/2020           1013              PPP   \n",
       "3  6223567700   05/01/2020            920              PPP   \n",
       "4  9662437702   05/01/2020            101              PPP   \n",
       "\n",
       "               BorrowerName        BorrowerAddress      BorrowerCity  \\\n",
       "0     SUMTER COATINGS, INC.  2410 Highway 15 South            Sumter   \n",
       "1     PLEASANT PLACES, INC.    7684 Southrail Road  North Charleston   \n",
       "2   BOYER CHILDREN'S CLINIC       1850 BOYER AVE E           SEATTLE   \n",
       "3  KIRTLEY CONSTRUCTION INC   1661 MARTIN RANCH RD    SAN BERNARDINO   \n",
       "4              AERO BOX LLC                    NaN               NaN   \n",
       "\n",
       "  BorrowerState BorrowerZip LoanStatusDate  ...             BusinessType  \\\n",
       "0           NaN  29150-9662     12/18/2020  ...              Corporation   \n",
       "1           NaN  29420-9000     09/28/2021  ...      Sole Proprietorship   \n",
       "2           NaN  98112-2922     03/17/2021  ...  Non-Profit Organization   \n",
       "3           NaN  92407-1740     10/16/2021  ...              Corporation   \n",
       "4           NaN         NaN     08/17/2021  ...                      NaN   \n",
       "\n",
       "   OriginatingLenderLocationID                      OriginatingLender  \\\n",
       "0                        19248                           Synovus Bank   \n",
       "1                        19248                           Synovus Bank   \n",
       "2                         9551  Bank of America, National Association   \n",
       "3                         9551  Bank of America, National Association   \n",
       "4                        57328           The Huntington National Bank   \n",
       "\n",
       "   OriginatingLenderCity  OriginatingLenderState      Gender      Veteran  \\\n",
       "0               COLUMBUS                      GA  Unanswered   Unanswered   \n",
       "1               COLUMBUS                      GA  Male Owned  Non-Veteran   \n",
       "2              CHARLOTTE                      NC  Unanswered   Unanswered   \n",
       "3              CHARLOTTE                      NC  Male Owned  Non-Veteran   \n",
       "4               COLUMBUS                      OH  Unanswered   Unanswered   \n",
       "\n",
       "   NonProfit ForgivenessAmount ForgivenessDate  \n",
       "0        NaN           773,553      11/20/2020  \n",
       "1        NaN           746,336      08/12/2021  \n",
       "2          Y           696,677      02/10/2021  \n",
       "3        NaN           395,264      09/10/2021  \n",
       "4        NaN           370,819      04/08/2021  \n",
       "\n",
       "[5 rows x 53 columns]"
      ]
     },
     "execution_count": 8,
     "metadata": {},
     "output_type": "execute_result"
    }
   ],
   "source": [
    "pppLoanData = pd.read_csv(\"https://raw.githubusercontent.com/sandeepmj/datasets/main/ppp_excerpt.csv\")\n",
    "pppLoanData.head()"
   ]
  },
  {
   "cell_type": "code",
   "execution_count": 10,
   "id": "dRQUAJ8H7YTq",
   "metadata": {
    "executionInfo": {
     "elapsed": 8,
     "status": "ok",
     "timestamp": 1708542693845,
     "user": {
      "displayName": "Sandeep Junnarkar",
      "userId": "15658885848901522782"
     },
     "user_tz": 480
    },
    "id": "dRQUAJ8H7YTq"
   },
   "outputs": [
    {
     "data": {
      "text/html": [
       "<div>\n",
       "<style scoped>\n",
       "    .dataframe tbody tr th:only-of-type {\n",
       "        vertical-align: middle;\n",
       "    }\n",
       "\n",
       "    .dataframe tbody tr th {\n",
       "        vertical-align: top;\n",
       "    }\n",
       "\n",
       "    .dataframe thead th {\n",
       "        text-align: right;\n",
       "    }\n",
       "</style>\n",
       "<table border=\"1\" class=\"dataframe\">\n",
       "  <thead>\n",
       "    <tr style=\"text-align: right;\">\n",
       "      <th></th>\n",
       "      <th>LoanNumber</th>\n",
       "      <th>SBAOfficeCode</th>\n",
       "      <th>Term</th>\n",
       "      <th>SBAGuarantyPercentage</th>\n",
       "      <th>InitialApprovalAmount</th>\n",
       "      <th>CurrentApprovalAmount</th>\n",
       "      <th>UndisbursedAmount</th>\n",
       "      <th>ServicingLenderLocationID</th>\n",
       "      <th>JobsReported</th>\n",
       "      <th>NAICSCode</th>\n",
       "      <th>UTILITIES_PROCEED</th>\n",
       "      <th>PAYROLL_PROCEED</th>\n",
       "      <th>MORTGAGE_INTEREST_PROCEED</th>\n",
       "      <th>RENT_PROCEED</th>\n",
       "      <th>REFINANCE_EIDL_PROCEED</th>\n",
       "      <th>HEALTH_CARE_PROCEED</th>\n",
       "      <th>DEBT_INTEREST_PROCEED</th>\n",
       "      <th>OriginatingLenderLocationID</th>\n",
       "      <th>ForgivenessAmount</th>\n",
       "    </tr>\n",
       "  </thead>\n",
       "  <tbody>\n",
       "    <tr>\n",
       "      <th>count</th>\n",
       "      <td>1,000</td>\n",
       "      <td>1,000</td>\n",
       "      <td>1,000</td>\n",
       "      <td>1,000</td>\n",
       "      <td>1,000</td>\n",
       "      <td>1,000</td>\n",
       "      <td>1,000</td>\n",
       "      <td>1,000</td>\n",
       "      <td>1,000</td>\n",
       "      <td>999</td>\n",
       "      <td>413</td>\n",
       "      <td>998</td>\n",
       "      <td>38</td>\n",
       "      <td>147</td>\n",
       "      <td>1</td>\n",
       "      <td>77</td>\n",
       "      <td>20</td>\n",
       "      <td>1,000</td>\n",
       "      <td>935</td>\n",
       "    </tr>\n",
       "    <tr>\n",
       "      <th>mean</th>\n",
       "      <td>5,323,517,923</td>\n",
       "      <td>1,074</td>\n",
       "      <td>37</td>\n",
       "      <td>100</td>\n",
       "      <td>952,351</td>\n",
       "      <td>964,704</td>\n",
       "      <td>0</td>\n",
       "      <td>62,647</td>\n",
       "      <td>73</td>\n",
       "      <td>509,317</td>\n",
       "      <td>16,864</td>\n",
       "      <td>938,579</td>\n",
       "      <td>33,246</td>\n",
       "      <td>71,710</td>\n",
       "      <td>10,000</td>\n",
       "      <td>111,150</td>\n",
       "      <td>33,143</td>\n",
       "      <td>62,025</td>\n",
       "      <td>912,983</td>\n",
       "    </tr>\n",
       "    <tr>\n",
       "      <th>std</th>\n",
       "      <td>2,362,640,834</td>\n",
       "      <td>94</td>\n",
       "      <td>17</td>\n",
       "      <td>0</td>\n",
       "      <td>947,021</td>\n",
       "      <td>950,929</td>\n",
       "      <td>0</td>\n",
       "      <td>75,173</td>\n",
       "      <td>74</td>\n",
       "      <td>181,263</td>\n",
       "      <td>59,265</td>\n",
       "      <td>938,039</td>\n",
       "      <td>35,466</td>\n",
       "      <td>69,605</td>\n",
       "      <td>NaN</td>\n",
       "      <td>198,886</td>\n",
       "      <td>47,648</td>\n",
       "      <td>73,473</td>\n",
       "      <td>854,059</td>\n",
       "    </tr>\n",
       "    <tr>\n",
       "      <th>min</th>\n",
       "      <td>1,001,567,103</td>\n",
       "      <td>101</td>\n",
       "      <td>24</td>\n",
       "      <td>100</td>\n",
       "      <td>155,010</td>\n",
       "      <td>155,010</td>\n",
       "      <td>0</td>\n",
       "      <td>3,386</td>\n",
       "      <td>2</td>\n",
       "      <td>112,511</td>\n",
       "      <td>1</td>\n",
       "      <td>155,010</td>\n",
       "      <td>567</td>\n",
       "      <td>1,000</td>\n",
       "      <td>10,000</td>\n",
       "      <td>2,098</td>\n",
       "      <td>900</td>\n",
       "      <td>3,386</td>\n",
       "      <td>101,211</td>\n",
       "    </tr>\n",
       "    <tr>\n",
       "      <th>25%</th>\n",
       "      <td>3,570,982,102</td>\n",
       "      <td>1,084</td>\n",
       "      <td>24</td>\n",
       "      <td>100</td>\n",
       "      <td>453,308</td>\n",
       "      <td>463,935</td>\n",
       "      <td>0</td>\n",
       "      <td>3,386</td>\n",
       "      <td>30</td>\n",
       "      <td>423,175</td>\n",
       "      <td>1</td>\n",
       "      <td>452,336</td>\n",
       "      <td>9,250</td>\n",
       "      <td>28,695</td>\n",
       "      <td>10,000</td>\n",
       "      <td>28,944</td>\n",
       "      <td>4,191</td>\n",
       "      <td>3,386</td>\n",
       "      <td>456,726</td>\n",
       "    </tr>\n",
       "    <tr>\n",
       "      <th>50%</th>\n",
       "      <td>5,124,373,556</td>\n",
       "      <td>1,084</td>\n",
       "      <td>24</td>\n",
       "      <td>100</td>\n",
       "      <td>617,999</td>\n",
       "      <td>631,722</td>\n",
       "      <td>0</td>\n",
       "      <td>56,102</td>\n",
       "      <td>48</td>\n",
       "      <td>541,350</td>\n",
       "      <td>1</td>\n",
       "      <td>616,318</td>\n",
       "      <td>20,276</td>\n",
       "      <td>50,222</td>\n",
       "      <td>10,000</td>\n",
       "      <td>50,295</td>\n",
       "      <td>14,629</td>\n",
       "      <td>56,102</td>\n",
       "      <td>623,037</td>\n",
       "    </tr>\n",
       "    <tr>\n",
       "      <th>75%</th>\n",
       "      <td>7,058,052,030</td>\n",
       "      <td>1,084</td>\n",
       "      <td>60</td>\n",
       "      <td>100</td>\n",
       "      <td>1,024,391</td>\n",
       "      <td>1,035,338</td>\n",
       "      <td>0</td>\n",
       "      <td>116,975</td>\n",
       "      <td>85</td>\n",
       "      <td>621,760</td>\n",
       "      <td>12,460</td>\n",
       "      <td>1,013,201</td>\n",
       "      <td>50,138</td>\n",
       "      <td>91,491</td>\n",
       "      <td>10,000</td>\n",
       "      <td>100,000</td>\n",
       "      <td>35,946</td>\n",
       "      <td>116,975</td>\n",
       "      <td>1,010,828</td>\n",
       "    </tr>\n",
       "    <tr>\n",
       "      <th>max</th>\n",
       "      <td>9,993,717,000</td>\n",
       "      <td>1,084</td>\n",
       "      <td>60</td>\n",
       "      <td>100</td>\n",
       "      <td>9,571,397</td>\n",
       "      <td>9,538,531</td>\n",
       "      <td>0</td>\n",
       "      <td>524,612</td>\n",
       "      <td>500</td>\n",
       "      <td>924,120</td>\n",
       "      <td>880,559</td>\n",
       "      <td>9,538,531</td>\n",
       "      <td>151,421</td>\n",
       "      <td>404,926</td>\n",
       "      <td>10,000</td>\n",
       "      <td>1,490,741</td>\n",
       "      <td>200,772</td>\n",
       "      <td>518,683</td>\n",
       "      <td>9,615,885</td>\n",
       "    </tr>\n",
       "  </tbody>\n",
       "</table>\n",
       "</div>"
      ],
      "text/plain": [
       "         LoanNumber  SBAOfficeCode  Term  SBAGuarantyPercentage  \\\n",
       "count         1,000          1,000 1,000                  1,000   \n",
       "mean  5,323,517,923          1,074    37                    100   \n",
       "std   2,362,640,834             94    17                      0   \n",
       "min   1,001,567,103            101    24                    100   \n",
       "25%   3,570,982,102          1,084    24                    100   \n",
       "50%   5,124,373,556          1,084    24                    100   \n",
       "75%   7,058,052,030          1,084    60                    100   \n",
       "max   9,993,717,000          1,084    60                    100   \n",
       "\n",
       "       InitialApprovalAmount  CurrentApprovalAmount  UndisbursedAmount  \\\n",
       "count                  1,000                  1,000              1,000   \n",
       "mean                 952,351                964,704                  0   \n",
       "std                  947,021                950,929                  0   \n",
       "min                  155,010                155,010                  0   \n",
       "25%                  453,308                463,935                  0   \n",
       "50%                  617,999                631,722                  0   \n",
       "75%                1,024,391              1,035,338                  0   \n",
       "max                9,571,397              9,538,531                  0   \n",
       "\n",
       "       ServicingLenderLocationID  JobsReported  NAICSCode  UTILITIES_PROCEED  \\\n",
       "count                      1,000         1,000        999                413   \n",
       "mean                      62,647            73    509,317             16,864   \n",
       "std                       75,173            74    181,263             59,265   \n",
       "min                        3,386             2    112,511                  1   \n",
       "25%                        3,386            30    423,175                  1   \n",
       "50%                       56,102            48    541,350                  1   \n",
       "75%                      116,975            85    621,760             12,460   \n",
       "max                      524,612           500    924,120            880,559   \n",
       "\n",
       "       PAYROLL_PROCEED  MORTGAGE_INTEREST_PROCEED  RENT_PROCEED  \\\n",
       "count              998                         38           147   \n",
       "mean           938,579                     33,246        71,710   \n",
       "std            938,039                     35,466        69,605   \n",
       "min            155,010                        567         1,000   \n",
       "25%            452,336                      9,250        28,695   \n",
       "50%            616,318                     20,276        50,222   \n",
       "75%          1,013,201                     50,138        91,491   \n",
       "max          9,538,531                    151,421       404,926   \n",
       "\n",
       "       REFINANCE_EIDL_PROCEED  HEALTH_CARE_PROCEED  DEBT_INTEREST_PROCEED  \\\n",
       "count                       1                   77                     20   \n",
       "mean                   10,000              111,150                 33,143   \n",
       "std                       NaN              198,886                 47,648   \n",
       "min                    10,000                2,098                    900   \n",
       "25%                    10,000               28,944                  4,191   \n",
       "50%                    10,000               50,295                 14,629   \n",
       "75%                    10,000              100,000                 35,946   \n",
       "max                    10,000            1,490,741                200,772   \n",
       "\n",
       "       OriginatingLenderLocationID  ForgivenessAmount  \n",
       "count                        1,000                935  \n",
       "mean                        62,025            912,983  \n",
       "std                         73,473            854,059  \n",
       "min                          3,386            101,211  \n",
       "25%                          3,386            456,726  \n",
       "50%                         56,102            623,037  \n",
       "75%                        116,975          1,010,828  \n",
       "max                        518,683          9,615,885  "
      ]
     },
     "execution_count": 10,
     "metadata": {},
     "output_type": "execute_result"
    }
   ],
   "source": [
    "## Run the code here to return all summary statistics in one go\n",
    "pppLoanData.describe()"
   ]
  },
  {
   "cell_type": "code",
   "execution_count": 12,
   "id": "6b55ca04",
   "metadata": {
    "executionInfo": {
     "elapsed": 8,
     "status": "ok",
     "timestamp": 1708542693845,
     "user": {
      "displayName": "Sandeep Junnarkar",
      "userId": "15658885848901522782"
     },
     "user_tz": 480
    },
    "id": "6b55ca04"
   },
   "outputs": [
    {
     "data": {
      "text/plain": [
       "853638795.3599999"
      ]
     },
     "execution_count": 12,
     "metadata": {},
     "output_type": "execute_result"
    }
   ],
   "source": [
    "## What is the sum of all the forgiven loans\n",
    "pppLoanData[\"ForgivenessAmount\"].sum()"
   ]
  },
  {
   "cell_type": "code",
   "execution_count": 14,
   "id": "10fc2aa1",
   "metadata": {
    "executionInfo": {
     "elapsed": 8,
     "status": "ok",
     "timestamp": 1708542693845,
     "user": {
      "displayName": "Sandeep Junnarkar",
      "userId": "15658885848901522782"
     },
     "user_tz": 480
    },
    "id": "10fc2aa1"
   },
   "outputs": [
    {
     "data": {
      "text/plain": [
       "'The sum of all the forgiven loans was $853,638,795'"
      ]
     },
     "execution_count": 14,
     "metadata": {},
     "output_type": "execute_result"
    }
   ],
   "source": [
    "## What is the sum of all the forgiven loans\n",
    "## format with dollar sign and thousands separators\n",
    "## round to zero decimals\n",
    "f\"The sum of all the forgiven loans was ${pppLoanData[\"ForgivenessAmount\"].sum():,.0F}\""
   ]
  },
  {
   "cell_type": "code",
   "execution_count": 18,
   "id": "35d_-Hfp-rpt",
   "metadata": {
    "executionInfo": {
     "elapsed": 8,
     "status": "ok",
     "timestamp": 1708542693845,
     "user": {
      "displayName": "Sandeep Junnarkar",
      "userId": "15658885848901522782"
     },
     "user_tz": 480
    },
    "id": "35d_-Hfp-rpt"
   },
   "outputs": [],
   "source": [
    "## store in variable called total_loan_forgiven\n",
    "total_loan_forgiven = pppLoanData[\"ForgivenessAmount\"].sum()"
   ]
  },
  {
   "cell_type": "code",
   "execution_count": 22,
   "id": "85f40afa",
   "metadata": {
    "executionInfo": {
     "elapsed": 8,
     "status": "ok",
     "timestamp": 1708542693845,
     "user": {
      "displayName": "Sandeep Junnarkar",
      "userId": "15658885848901522782"
     },
     "user_tz": 480
    },
    "id": "85f40afa"
   },
   "outputs": [
    {
     "data": {
      "text/plain": [
       "CurrentApprovalAmount   631,722\n",
       "InitialApprovalAmount   617,999\n",
       "ForgivenessAmount       623,037\n",
       "dtype: float64"
      ]
     },
     "execution_count": 22,
     "metadata": {},
     "output_type": "execute_result"
    }
   ],
   "source": [
    "## return the median for CurrentApprovalAmount loans, InitialApprovalAmount loans and ForgivenessAmount loan amounts\n",
    "pppLoanData[[\"CurrentApprovalAmount\", \"InitialApprovalAmount\", \"ForgivenessAmount\"]].median()"
   ]
  },
  {
   "cell_type": "code",
   "execution_count": 26,
   "id": "agAgZitYf6ZP",
   "metadata": {
    "executionInfo": {
     "elapsed": 7,
     "status": "ok",
     "timestamp": 1708542693845,
     "user": {
      "displayName": "Sandeep Junnarkar",
      "userId": "15658885848901522782"
     },
     "user_tz": 480
    },
    "id": "agAgZitYf6ZP"
   },
   "outputs": [
    {
     "data": {
      "text/html": [
       "<div>\n",
       "<style scoped>\n",
       "    .dataframe tbody tr th:only-of-type {\n",
       "        vertical-align: middle;\n",
       "    }\n",
       "\n",
       "    .dataframe tbody tr th {\n",
       "        vertical-align: top;\n",
       "    }\n",
       "\n",
       "    .dataframe thead th {\n",
       "        text-align: right;\n",
       "    }\n",
       "</style>\n",
       "<table border=\"1\" class=\"dataframe\">\n",
       "  <thead>\n",
       "    <tr style=\"text-align: right;\">\n",
       "      <th></th>\n",
       "      <th>Medians</th>\n",
       "    </tr>\n",
       "  </thead>\n",
       "  <tbody>\n",
       "    <tr>\n",
       "      <th>CurrentApprovalAmount</th>\n",
       "      <td>631,722</td>\n",
       "    </tr>\n",
       "    <tr>\n",
       "      <th>InitialApprovalAmount</th>\n",
       "      <td>617,999</td>\n",
       "    </tr>\n",
       "    <tr>\n",
       "      <th>ForgivenessAmount</th>\n",
       "      <td>623,037</td>\n",
       "    </tr>\n",
       "  </tbody>\n",
       "</table>\n",
       "</div>"
      ],
      "text/plain": [
       "                       Medians\n",
       "CurrentApprovalAmount  631,722\n",
       "InitialApprovalAmount  617,999\n",
       "ForgivenessAmount      623,037"
      ]
     },
     "execution_count": 26,
     "metadata": {},
     "output_type": "execute_result"
    }
   ],
   "source": [
    "##  Return the above as a frame\n",
    "pppLoanData[[\"CurrentApprovalAmount\", \"InitialApprovalAmount\", \"ForgivenessAmount\"]].median().to_frame(\"Medians\")"
   ]
  },
  {
   "cell_type": "code",
   "execution_count": 28,
   "id": "0c26aa08",
   "metadata": {
    "executionInfo": {
     "elapsed": 7,
     "status": "ok",
     "timestamp": 1708542693845,
     "user": {
      "displayName": "Sandeep Junnarkar",
      "userId": "15658885848901522782"
     },
     "user_tz": 480
    },
    "id": "0c26aa08"
   },
   "outputs": [
    {
     "data": {
      "text/plain": [
       "count      1,000\n",
       "mean     964,704\n",
       "median   631,722\n",
       "Name: CurrentApprovalAmount, dtype: float64"
      ]
     },
     "execution_count": 28,
     "metadata": {},
     "output_type": "execute_result"
    }
   ],
   "source": [
    "## get the count, mean and median for CurrentApprovalAmount\n",
    "pppLoanData[\"CurrentApprovalAmount\"].agg([\"count\",\"mean\",\"median\"])"
   ]
  },
  {
   "cell_type": "code",
   "execution_count": 36,
   "id": "e350c71d",
   "metadata": {
    "executionInfo": {
     "elapsed": 7,
     "status": "ok",
     "timestamp": 1708542693845,
     "user": {
      "displayName": "Sandeep Junnarkar",
      "userId": "15658885848901522782"
     },
     "user_tz": 480
    },
    "id": "e350c71d"
   },
   "outputs": [
    {
     "data": {
      "text/html": [
       "<div>\n",
       "<style scoped>\n",
       "    .dataframe tbody tr th:only-of-type {\n",
       "        vertical-align: middle;\n",
       "    }\n",
       "\n",
       "    .dataframe tbody tr th {\n",
       "        vertical-align: top;\n",
       "    }\n",
       "\n",
       "    .dataframe thead th {\n",
       "        text-align: right;\n",
       "    }\n",
       "</style>\n",
       "<table border=\"1\" class=\"dataframe\">\n",
       "  <thead>\n",
       "    <tr style=\"text-align: right;\">\n",
       "      <th></th>\n",
       "      <th>CurrentApprovalAmount</th>\n",
       "    </tr>\n",
       "  </thead>\n",
       "  <tbody>\n",
       "    <tr>\n",
       "      <th>count</th>\n",
       "      <td>1,000</td>\n",
       "    </tr>\n",
       "    <tr>\n",
       "      <th>mean</th>\n",
       "      <td>964,704</td>\n",
       "    </tr>\n",
       "    <tr>\n",
       "      <th>median</th>\n",
       "      <td>631,722</td>\n",
       "    </tr>\n",
       "  </tbody>\n",
       "</table>\n",
       "</div>"
      ],
      "text/plain": [
       "        CurrentApprovalAmount\n",
       "count                   1,000\n",
       "mean                  964,704\n",
       "median                631,722"
      ]
     },
     "execution_count": 36,
     "metadata": {},
     "output_type": "execute_result"
    }
   ],
   "source": [
    "## automatically return a frame (without using to_frame()) for the count, mean and median for InitialApprovalAmount, CurrentApprovalAmount\n",
    "pppLoanData[[\"CurrentApprovalAmount\"]].agg([\"count\",\"mean\",\"median\"])"
   ]
  },
  {
   "cell_type": "code",
   "execution_count": 46,
   "id": "b58544ed-b348-4b68-8d0d-4787f6757a10",
   "metadata": {},
   "outputs": [
    {
     "data": {
      "text/html": [
       "<div>\n",
       "<style scoped>\n",
       "    .dataframe tbody tr th:only-of-type {\n",
       "        vertical-align: middle;\n",
       "    }\n",
       "\n",
       "    .dataframe tbody tr th {\n",
       "        vertical-align: top;\n",
       "    }\n",
       "\n",
       "    .dataframe thead th {\n",
       "        text-align: right;\n",
       "    }\n",
       "</style>\n",
       "<table border=\"1\" class=\"dataframe\">\n",
       "  <thead>\n",
       "    <tr style=\"text-align: right;\">\n",
       "      <th></th>\n",
       "      <th>ID</th>\n",
       "      <th>Athlete Name</th>\n",
       "      <th>Sex</th>\n",
       "      <th>Age</th>\n",
       "      <th>Height</th>\n",
       "      <th>Weight</th>\n",
       "      <th>Team</th>\n",
       "      <th>NOC</th>\n",
       "      <th>Year</th>\n",
       "      <th>City</th>\n",
       "      <th>Sport</th>\n",
       "      <th>Event</th>\n",
       "      <th>Medal</th>\n",
       "      <th>Season</th>\n",
       "    </tr>\n",
       "  </thead>\n",
       "  <tbody>\n",
       "    <tr>\n",
       "      <th>0</th>\n",
       "      <td>391</td>\n",
       "      <td>Clarence John Abel</td>\n",
       "      <td>M</td>\n",
       "      <td>23</td>\n",
       "      <td>185</td>\n",
       "      <td>102</td>\n",
       "      <td>United States</td>\n",
       "      <td>USA</td>\n",
       "      <td>1924</td>\n",
       "      <td>Chamonix</td>\n",
       "      <td>Ice Hockey</td>\n",
       "      <td>Ice Hockey Men's Ice Hockey</td>\n",
       "      <td>Silver</td>\n",
       "      <td>winter</td>\n",
       "    </tr>\n",
       "    <tr>\n",
       "      <th>1</th>\n",
       "      <td>992</td>\n",
       "      <td>Josef Adolf</td>\n",
       "      <td>M</td>\n",
       "      <td>25</td>\n",
       "      <td>NaN</td>\n",
       "      <td>NaN</td>\n",
       "      <td>Czechoslovakia</td>\n",
       "      <td>TCH</td>\n",
       "      <td>1924</td>\n",
       "      <td>Chamonix</td>\n",
       "      <td>Nordic Combined</td>\n",
       "      <td>Nordic Combined Men's Individual</td>\n",
       "      <td>NaN</td>\n",
       "      <td>winter</td>\n",
       "    </tr>\n",
       "    <tr>\n",
       "      <th>2</th>\n",
       "      <td>1077</td>\n",
       "      <td>Xavier Affentranger</td>\n",
       "      <td>M</td>\n",
       "      <td>26</td>\n",
       "      <td>NaN</td>\n",
       "      <td>NaN</td>\n",
       "      <td>Switzerland</td>\n",
       "      <td>SUI</td>\n",
       "      <td>1924</td>\n",
       "      <td>Chamonix</td>\n",
       "      <td>Ski Jumping</td>\n",
       "      <td>Ski Jumping Men's Normal Hill, Individual</td>\n",
       "      <td>NaN</td>\n",
       "      <td>winter</td>\n",
       "    </tr>\n",
       "    <tr>\n",
       "      <th>3</th>\n",
       "      <td>1077</td>\n",
       "      <td>Xavier Affentranger</td>\n",
       "      <td>M</td>\n",
       "      <td>26</td>\n",
       "      <td>NaN</td>\n",
       "      <td>NaN</td>\n",
       "      <td>Switzerland</td>\n",
       "      <td>SUI</td>\n",
       "      <td>1924</td>\n",
       "      <td>Chamonix</td>\n",
       "      <td>Cross Country Skiing</td>\n",
       "      <td>Cross Country Skiing Men's 18 kilometres</td>\n",
       "      <td>NaN</td>\n",
       "      <td>winter</td>\n",
       "    </tr>\n",
       "    <tr>\n",
       "      <th>4</th>\n",
       "      <td>1077</td>\n",
       "      <td>Xavier Affentranger</td>\n",
       "      <td>M</td>\n",
       "      <td>26</td>\n",
       "      <td>NaN</td>\n",
       "      <td>NaN</td>\n",
       "      <td>Switzerland</td>\n",
       "      <td>SUI</td>\n",
       "      <td>1924</td>\n",
       "      <td>Chamonix</td>\n",
       "      <td>Nordic Combined</td>\n",
       "      <td>Nordic Combined Men's Individual</td>\n",
       "      <td>NaN</td>\n",
       "      <td>winter</td>\n",
       "    </tr>\n",
       "  </tbody>\n",
       "</table>\n",
       "</div>"
      ],
      "text/plain": [
       "     ID         Athlete Name Sex  Age  Height  Weight            Team  NOC  \\\n",
       "0   391   Clarence John Abel   M   23     185     102   United States  USA   \n",
       "1   992          Josef Adolf   M   25     NaN     NaN  Czechoslovakia  TCH   \n",
       "2  1077  Xavier Affentranger   M   26     NaN     NaN     Switzerland  SUI   \n",
       "3  1077  Xavier Affentranger   M   26     NaN     NaN     Switzerland  SUI   \n",
       "4  1077  Xavier Affentranger   M   26     NaN     NaN     Switzerland  SUI   \n",
       "\n",
       "   Year      City                 Sport  \\\n",
       "0  1924  Chamonix            Ice Hockey   \n",
       "1  1924  Chamonix       Nordic Combined   \n",
       "2  1924  Chamonix           Ski Jumping   \n",
       "3  1924  Chamonix  Cross Country Skiing   \n",
       "4  1924  Chamonix       Nordic Combined   \n",
       "\n",
       "                                       Event   Medal  Season  \n",
       "0                Ice Hockey Men's Ice Hockey  Silver  winter  \n",
       "1           Nordic Combined Men's Individual     NaN  winter  \n",
       "2  Ski Jumping Men's Normal Hill, Individual     NaN  winter  \n",
       "3   Cross Country Skiing Men's 18 kilometres     NaN  winter  \n",
       "4           Nordic Combined Men's Individual     NaN  winter  "
      ]
     },
     "execution_count": 46,
     "metadata": {},
     "output_type": "execute_result"
    }
   ],
   "source": [
    "olympicData = pd.read_csv(\"olympicData\")\n",
    "olympicData.head()\n",
    "#### I exported the post-concat dataset out of my in class notebook to bring it here instead of having to turn in two notebooks for homework"
   ]
  },
  {
   "cell_type": "code",
   "execution_count": 58,
   "id": "a8f83c59-6203-493c-a416-443240629edf",
   "metadata": {},
   "outputs": [
    {
     "data": {
      "text/plain": [
       "Medal\n",
       "Gold      1913\n",
       "Silver    1896\n",
       "Bronze    1886\n",
       "Name: count, dtype: int64"
      ]
     },
     "execution_count": 58,
     "metadata": {},
     "output_type": "execute_result"
    }
   ],
   "source": [
    "## Challenge\n",
    "#### 1. How many medals were handed out in winter games v. summer game (return both in absolutes and as a percentage)?\n",
    "olympicData.query(\"Season == 'winter'\").value_counts(\"Medal\")"
   ]
  },
  {
   "cell_type": "code",
   "execution_count": 60,
   "id": "7283d6ed-ef79-4403-957a-01d3c18afc13",
   "metadata": {},
   "outputs": [
    {
     "data": {
      "text/plain": [
       "Medal\n",
       "Gold      11459\n",
       "Bronze    11409\n",
       "Silver    11220\n",
       "Name: count, dtype: int64"
      ]
     },
     "execution_count": 60,
     "metadata": {},
     "output_type": "execute_result"
    }
   ],
   "source": [
    "olympicData.query(\"Season == 'summer'\").value_counts(\"Medal\")"
   ]
  },
  {
   "cell_type": "code",
   "execution_count": 98,
   "id": "085cb85d-3ae8-4b88-ab84-a2781d2cd4f3",
   "metadata": {},
   "outputs": [
    {
     "data": {
      "text/plain": [
       "Medal\n",
       "Gold    13372\n",
       "Name: count, dtype: int64"
      ]
     },
     "execution_count": 98,
     "metadata": {},
     "output_type": "execute_result"
    }
   ],
   "source": [
    "#### 2. Top 10 count of gold medals by country\n",
    "medaldf = olympicData.query(\"Medal == 'Gold'\")\n",
    "medaldf['Medal'].value_counts()"
   ]
  },
  {
   "cell_type": "code",
   "execution_count": 112,
   "id": "0efa29d6-99f0-41b3-a4b9-5f18d872911b",
   "metadata": {},
   "outputs": [
    {
     "data": {
      "text/plain": [
       "Team\n",
       "United States    2474\n",
       "Soviet Union     1058\n",
       "Germany           679\n",
       "Italy             535\n",
       "Great Britain     519\n",
       "France            455\n",
       "Sweden            451\n",
       "Hungary           432\n",
       "Canada            422\n",
       "East Germany      369\n",
       "Name: count, dtype: int64"
      ]
     },
     "execution_count": 112,
     "metadata": {},
     "output_type": "execute_result"
    }
   ],
   "source": [
    "medaldf[\"Team\"].value_counts().head(10)"
   ]
  },
  {
   "cell_type": "code",
   "execution_count": 132,
   "id": "0b7302a0-422f-4424-a6af-cd0a1ac854ff",
   "metadata": {},
   "outputs": [],
   "source": [
    "#### 3. Of these top 10, what percent of the gold medals do they have?\n"
   ]
  },
  {
   "cell_type": "code",
   "execution_count": 156,
   "id": "df98d551-8681-4409-90cf-fd905217d5e6",
   "metadata": {},
   "outputs": [],
   "source": [
    "medals_dicts = ({\"country\":\"USA\", \"percentMedals\":(2_474/12_372) * 100},\n",
    "{\"country\":\"USSR\", \"percentMedals\":(1_058/12_372) * 100},\n",
    "{\"country\":\"germany\", \"percentMedals\":(679/12_372) * 100},\n",
    "{\"country\":\"italy\", \"percentMedals\":(535/12_372) * 100},\n",
    "{\"country\":\"britain\", \"percentMedals\":(519/12_372) * 100},\n",
    "{\"country\":\"france\", \"percentMedals\":(455/12_372) * 100},\n",
    "{\"country\":\"sweden\", \"percentMedals\":(451/12_372) * 100},\n",
    "{\"country\":\"hungary\", \"percentMedals\":(432/12_372) * 100},\n",
    "{\"country\":\"canada\", \"percentMedals\":(422/12_372) * 100},\n",
    "{\"country\":\"eastGermany\", \"percentMedals\":(369/12_372) * 100})"
   ]
  },
  {
   "cell_type": "code",
   "execution_count": 158,
   "id": "26beb309-889b-4d03-981f-49c7a0829813",
   "metadata": {},
   "outputs": [
    {
     "data": {
      "text/html": [
       "<div>\n",
       "<style scoped>\n",
       "    .dataframe tbody tr th:only-of-type {\n",
       "        vertical-align: middle;\n",
       "    }\n",
       "\n",
       "    .dataframe tbody tr th {\n",
       "        vertical-align: top;\n",
       "    }\n",
       "\n",
       "    .dataframe thead th {\n",
       "        text-align: right;\n",
       "    }\n",
       "</style>\n",
       "<table border=\"1\" class=\"dataframe\">\n",
       "  <thead>\n",
       "    <tr style=\"text-align: right;\">\n",
       "      <th></th>\n",
       "      <th>country</th>\n",
       "      <th>percentMedals</th>\n",
       "    </tr>\n",
       "  </thead>\n",
       "  <tbody>\n",
       "    <tr>\n",
       "      <th>0</th>\n",
       "      <td>USA</td>\n",
       "      <td>20</td>\n",
       "    </tr>\n",
       "    <tr>\n",
       "      <th>1</th>\n",
       "      <td>USSR</td>\n",
       "      <td>9</td>\n",
       "    </tr>\n",
       "    <tr>\n",
       "      <th>2</th>\n",
       "      <td>germany</td>\n",
       "      <td>5</td>\n",
       "    </tr>\n",
       "    <tr>\n",
       "      <th>3</th>\n",
       "      <td>italy</td>\n",
       "      <td>4</td>\n",
       "    </tr>\n",
       "    <tr>\n",
       "      <th>4</th>\n",
       "      <td>britain</td>\n",
       "      <td>4</td>\n",
       "    </tr>\n",
       "    <tr>\n",
       "      <th>5</th>\n",
       "      <td>france</td>\n",
       "      <td>4</td>\n",
       "    </tr>\n",
       "    <tr>\n",
       "      <th>6</th>\n",
       "      <td>sweden</td>\n",
       "      <td>4</td>\n",
       "    </tr>\n",
       "    <tr>\n",
       "      <th>7</th>\n",
       "      <td>hungary</td>\n",
       "      <td>3</td>\n",
       "    </tr>\n",
       "    <tr>\n",
       "      <th>8</th>\n",
       "      <td>canada</td>\n",
       "      <td>3</td>\n",
       "    </tr>\n",
       "    <tr>\n",
       "      <th>9</th>\n",
       "      <td>eastGermany</td>\n",
       "      <td>3</td>\n",
       "    </tr>\n",
       "  </tbody>\n",
       "</table>\n",
       "</div>"
      ],
      "text/plain": [
       "       country  percentMedals\n",
       "0          USA             20\n",
       "1         USSR              9\n",
       "2      germany              5\n",
       "3        italy              4\n",
       "4      britain              4\n",
       "5       france              4\n",
       "6       sweden              4\n",
       "7      hungary              3\n",
       "8       canada              3\n",
       "9  eastGermany              3"
      ]
     },
     "execution_count": 158,
     "metadata": {},
     "output_type": "execute_result"
    }
   ],
   "source": [
    "top10medals = pd.DataFrame(medals_dicts)\n",
    "top10medals"
   ]
  }
 ],
 "metadata": {
  "colab": {
   "provenance": [
    {
     "file_id": "1yepcRQfjJBSJQ1e9voMR4wRhRyqiIMRh",
     "timestamp": 1708542416840
    },
    {
     "file_id": "1E6lBk0CybDpYiiIpbN9F2vZv4TLTRdMM",
     "timestamp": 1708539602346
    },
    {
     "file_id": "1xGQnNd1p_PPGTl8XhHSTNwgrGJzg3GJL",
     "timestamp": 1676647902051
    },
    {
     "file_id": "13mkVHyvtYcLg0IQu4I7fAqJ0KjUuVhVY",
     "timestamp": 1676556385459
    },
    {
     "file_id": "1-tVOs87v3x9Dtnvny9lYMSSUjYcnPE5r",
     "timestamp": 1676553506628
    }
   ]
  },
  "kernelspec": {
   "display_name": "Python [conda env:base] *",
   "language": "python",
   "name": "conda-base-py"
  },
  "language_info": {
   "codemirror_mode": {
    "name": "ipython",
    "version": 3
   },
   "file_extension": ".py",
   "mimetype": "text/x-python",
   "name": "python",
   "nbconvert_exporter": "python",
   "pygments_lexer": "ipython3",
   "version": "3.12.7"
  }
 },
 "nbformat": 4,
 "nbformat_minor": 5
}
